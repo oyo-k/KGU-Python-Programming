{
 "cells": [
  {
   "cell_type": "markdown",
   "metadata": {},
   "source": [
    "# 変数とは？"
   ]
  },
  {
   "cell_type": "markdown",
   "metadata": {},
   "source": [
    " ## 変数とはデータに対する名前付\n",
    " "
   ]
  },
  {
   "cell_type": "code",
   "execution_count": 3,
   "metadata": {},
   "outputs": [],
   "source": [
    "data = 10"
   ]
  },
  {
   "cell_type": "code",
   "execution_count": 4,
   "metadata": {},
   "outputs": [
    {
     "data": {
      "text/plain": [
       "10"
      ]
     },
     "execution_count": 4,
     "metadata": {},
     "output_type": "execute_result"
    }
   ],
   "source": [
    "data"
   ]
  },
  {
   "cell_type": "code",
   "execution_count": 6,
   "metadata": {},
   "outputs": [
    {
     "data": {
      "text/plain": [
       "2"
      ]
     },
     "execution_count": 6,
     "metadata": {},
     "output_type": "execute_result"
    }
   ],
   "source": [
    "keisan1 = 1 + 1\n",
    "keisan2 = 2 * 1\n",
    "keisan3 = 4 / 4\n",
    "keisan1"
   ]
  },
  {
   "cell_type": "code",
   "execution_count": null,
   "metadata": {},
   "outputs": [
    {
     "data": {
      "text/plain": [
       "5.0"
      ]
     },
     "execution_count": 7,
     "metadata": {},
     "output_type": "execute_result"
    }
   ],
   "source": [
    "keisan1 + keisan2 + keisan3\n",
    "print(keisan1 + keisan2 + keisan3)"
   ]
  },
  {
   "cell_type": "markdown",
   "metadata": {},
   "source": [
    "## 名前の入れ替え"
   ]
  },
  {
   "cell_type": "code",
   "execution_count": null,
   "metadata": {},
   "outputs": [
    {
     "name": "stdout",
     "output_type": "stream",
     "text": [
      "庫智大用\n"
     ]
    }
   ],
   "source": [
    "a = \"大用\"\n",
    "b = \"庫智\"\n",
    "\n",
    "tmp = a\n",
    "a = b\n",
    "b = tmp\n",
    "\n",
    "print(a + b)"
   ]
  },
  {
   "cell_type": "markdown",
   "metadata": {},
   "source": [
    "## 関数を利用した表示"
   ]
  },
  {
   "cell_type": "code",
   "execution_count": null,
   "metadata": {},
   "outputs": [],
   "source": [
    "- 本プログラムは、3つの数値から平均値を計算する。\n",
    "- 1行目では、def を用いて関数を定義する。関数meanには\n",
    "  引数として3つの数値（a,b,c）を受け取る。\n",
    "- 2行目では、平均値を計算するために、3つの数値を足し合わせて3で割る。\n",
    "- その平均値をtmpという変数に代入（名前付）する\n",
    "- 4行目では、return を用いて、計算した平均値を返す。\n",
    "\n",
    "- 5行目では、関数meanを呼び出し、引数として3つの数値を渡す。\n",
    "関数の計算結果である平均値を goukei に代入する\n",
    "- 6行目では、printを用いて、平均値を表示する。"
   ]
  },
  {
   "cell_type": "code",
   "execution_count": 2,
   "metadata": {},
   "outputs": [
    {
     "name": "stdout",
     "output_type": "stream",
     "text": [
      "平均 333.3333333333333\n",
      "計算結果: 333.3333333333333\n"
     ]
    }
   ],
   "source": [
    "def mean(a, b, c):\n",
    "    tmp = (a + b + c) / 3\n",
    "    print(\"平均\", tmp)\n",
    "    return tmp\n",
    "goukei = mean(100, 500, 400)\n",
    "print(\"計算結果:\",goukei)"
   ]
  }
 ],
 "metadata": {
  "kernelspec": {
   "display_name": "py12",
   "language": "python",
   "name": "python3"
  },
  "language_info": {
   "codemirror_mode": {
    "name": "ipython",
    "version": 3
   },
   "file_extension": ".py",
   "mimetype": "text/x-python",
   "name": "python",
   "nbconvert_exporter": "python",
   "pygments_lexer": "ipython3",
   "version": "3.12.0"
  }
 },
 "nbformat": 4,
 "nbformat_minor": 2
}
